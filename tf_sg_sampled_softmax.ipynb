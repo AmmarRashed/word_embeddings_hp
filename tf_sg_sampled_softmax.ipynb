{
 "cells": [
  {
   "cell_type": "markdown",
   "metadata": {},
   "source": [
    "## Training word embeddings on Harry Potter books corpus"
   ]
  },
  {
   "cell_type": "code",
   "execution_count": 1,
   "metadata": {},
   "outputs": [],
   "source": [
    "# bridging Python versions\n",
    "from __future__ import absolute_import, division, print_function"
   ]
  },
  {
   "cell_type": "code",
   "execution_count": 2,
   "metadata": {},
   "outputs": [],
   "source": [
    "# for openning and processing the data files\n",
    "import codecs # encoding the corpus into utf-8\n",
    "import glob  # Unix style pathname pattern\n",
    "import logging\n",
    "import multiprocessing\n",
    "from joblib import Parallel, delayed  # for parallel computation\n",
    "import os\n",
    "import re\n",
    "import time\n",
    "from collections import OrderedDict, deque"
   ]
  },
  {
   "cell_type": "code",
   "execution_count": 3,
   "metadata": {},
   "outputs": [
    {
     "name": "stderr",
     "output_type": "stream",
     "text": [
      "/usr/local/lib/python3.5/dist-packages/h5py/__init__.py:36: FutureWarning: Conversion of the second argument of issubdtype from `float` to `np.floating` is deprecated. In future, it will be treated as `np.float64 == np.dtype(float).type`.\n",
      "  from ._conv import register_converters as _register_converters\n"
     ]
    }
   ],
   "source": [
    "import nltk  # for text cleaning\n",
    "from gensim.models.phrases import Phraser, Phrases\n",
    "import tensorflow as tf"
   ]
  },
  {
   "cell_type": "code",
   "execution_count": 4,
   "metadata": {},
   "outputs": [],
   "source": [
    "# for plotting and analyzing the results\n",
    "\n",
    "import numpy as np\n",
    "import matplotlib.pyplot as plt\n",
    "import pandas as pd\n",
    "import seaborn as sns\n",
    "\n",
    "from sklearn.manifold import TSNE # for dimensionality reduction to plot similar words"
   ]
  },
  {
   "cell_type": "code",
   "execution_count": 5,
   "metadata": {},
   "outputs": [
    {
     "name": "stdout",
     "output_type": "stream",
     "text": [
      "Populating the interactive namespace from numpy and matplotlib\n"
     ]
    }
   ],
   "source": [
    "%pylab inline"
   ]
  },
  {
   "cell_type": "markdown",
   "metadata": {},
   "source": [
    "#### setting up the logging"
   ]
  },
  {
   "cell_type": "code",
   "execution_count": 6,
   "metadata": {},
   "outputs": [],
   "source": [
    "logging.basicConfig(format='%(asctime)s : %(levelname)s : %(message)s', level=logging.INFO)"
   ]
  },
  {
   "cell_type": "markdown",
   "metadata": {},
   "source": [
    "#### Downloading the tokenizer model from nltk"
   ]
  },
  {
   "cell_type": "code",
   "execution_count": 7,
   "metadata": {},
   "outputs": [
    {
     "name": "stdout",
     "output_type": "stream",
     "text": [
      "[nltk_data] Downloading package punkt to /home/ammar/nltk_data...\n",
      "[nltk_data]   Package punkt is already up-to-date!\n"
     ]
    },
    {
     "data": {
      "text/plain": [
       "True"
      ]
     },
     "execution_count": 7,
     "metadata": {},
     "output_type": "execute_result"
    }
   ],
   "source": [
    "nltk.download(\"punkt\")"
   ]
  },
  {
   "cell_type": "markdown",
   "metadata": {},
   "source": [
    "#### Loading Harry Potter books"
   ]
  },
  {
   "cell_type": "code",
   "execution_count": 8,
   "metadata": {},
   "outputs": [
    {
     "data": {
      "text/plain": [
       "['data/hp1.txt',\n",
       " 'data/hp2.txt',\n",
       " 'data/hp3.txt',\n",
       " 'data/hp4.txt',\n",
       " 'data/hp5.txt',\n",
       " 'data/hp6.txt',\n",
       " 'data/hp7.txt']"
      ]
     },
     "execution_count": 8,
     "metadata": {},
     "output_type": "execute_result"
    }
   ],
   "source": [
    "book_names = sorted(glob.glob(\"data/*.txt\"))\n",
    "book_names"
   ]
  },
  {
   "cell_type": "markdown",
   "metadata": {},
   "source": [
    "#### create one string of all the books"
   ]
  },
  {
   "cell_type": "code",
   "execution_count": 9,
   "metadata": {},
   "outputs": [
    {
     "name": "stdout",
     "output_type": "stream",
     "text": [
      "Reading hp1.txt...\n",
      "Corpus now is 442745 characters and 78449 words long\n",
      "~~~~~~~~~~~~~~~~~~~~~~~~~~~~~~\n",
      "Reading hp2.txt...\n",
      "Corpus now is 932472 characters and 165674 words long\n",
      "~~~~~~~~~~~~~~~~~~~~~~~~~~~~~~\n",
      "Reading hp3.txt...\n",
      "Corpus now is 1543433 characters and 271749 words long\n",
      "~~~~~~~~~~~~~~~~~~~~~~~~~~~~~~\n",
      "Reading hp4.txt...\n",
      "Corpus now is 2650206 characters and 467521 words long\n",
      "~~~~~~~~~~~~~~~~~~~~~~~~~~~~~~\n",
      "Reading hp5.txt...\n",
      "Corpus now is 4131978 characters and 726862 words long\n",
      "~~~~~~~~~~~~~~~~~~~~~~~~~~~~~~\n",
      "Reading hp6.txt...\n",
      "Corpus now is 5117585 characters and 900224 words long\n",
      "~~~~~~~~~~~~~~~~~~~~~~~~~~~~~~\n",
      "Reading hp7.txt...\n",
      "Corpus now is 6250142 characters and 1100343 words long\n",
      "~~~~~~~~~~~~~~~~~~~~~~~~~~~~~~\n"
     ]
    }
   ],
   "source": [
    "raw_corpus = u\"\"  # will use utf-8\n",
    "for filename in book_names:\n",
    "    print(\"Reading {}...\".format(filename.split(\"/\")[1]))\n",
    "    with codecs.open(filename,\"r\",\"utf-8\") as book:\n",
    "        raw_corpus += book.read() \n",
    "    print(\"Corpus now is {} characters and {} words long\".format(len(raw_corpus), len(raw_corpus.split())))\n",
    "    print(\"~\"*30)"
   ]
  },
  {
   "cell_type": "markdown",
   "metadata": {},
   "source": [
    "#### loading the tokenizer"
   ]
  },
  {
   "cell_type": "code",
   "execution_count": 10,
   "metadata": {},
   "outputs": [],
   "source": [
    "tokenizer = nltk.data.load('tokenizers/punkt/english.pickle')"
   ]
  },
  {
   "cell_type": "code",
   "execution_count": 11,
   "metadata": {},
   "outputs": [],
   "source": [
    "raw_sentences = tokenizer.tokenize(raw_corpus.lower())"
   ]
  },
  {
   "cell_type": "code",
   "execution_count": 12,
   "metadata": {},
   "outputs": [
    {
     "data": {
      "text/plain": [
       "[\"harry potter and the sorcerer's stone \\n\\nchapter one \\n\\nthe boy who lived \\n\\nmr. and mrs. dursley, of number four, privet drive, were proud to say that they were perfectly normal, thank you very much.\",\n",
       " \"they were the last people you'd expect to be involved in anything strange or mysterious, because they just didn't hold with such nonsense.\"]"
      ]
     },
     "execution_count": 12,
     "metadata": {},
     "output_type": "execute_result"
    }
   ],
   "source": [
    "raw_sentences[:2]"
   ]
  },
  {
   "cell_type": "code",
   "execution_count": 13,
   "metadata": {},
   "outputs": [],
   "source": [
    "def sentence_to_wordlist(raw:str):\n",
    "    return re.sub(\"[^a-zA-Z]\",\" \", raw).split()"
   ]
  },
  {
   "cell_type": "code",
   "execution_count": 14,
   "metadata": {},
   "outputs": [],
   "source": [
    "# converting sentences to wordlists, utilizing all the cpu cores\n",
    "tokenized_sentences = Parallel(n_jobs=-1)(\n",
    "                delayed(sentence_to_wordlist)(\n",
    "                    raw_sentence) for raw_sentence in raw_sentences)"
   ]
  },
  {
   "cell_type": "code",
   "execution_count": 15,
   "metadata": {},
   "outputs": [
    {
     "name": "stdout",
     "output_type": "stream",
     "text": [
      "the dursleys knew that the potters had a small son, too, but they had never even seen him.\n",
      "['the', 'dursleys', 'knew', 'that', 'the', 'potters', 'had', 'a', 'small', 'son', 'too', 'but', 'they', 'had', 'never', 'even', 'seen', 'him']\n"
     ]
    }
   ],
   "source": [
    "print(raw_sentences[10])\n",
    "print(tokenized_sentences[10])"
   ]
  },
  {
   "cell_type": "markdown",
   "metadata": {},
   "source": [
    "# Word2Phrase (bigrams)\n",
    "## e.g. new_york"
   ]
  },
  {
   "cell_type": "code",
   "execution_count": 16,
   "metadata": {
    "scrolled": true
   },
   "outputs": [
    {
     "name": "stderr",
     "output_type": "stream",
     "text": [
      "2018-07-19 20:29:32,344 : INFO : collecting all words and their counts\n",
      "2018-07-19 20:29:32,346 : INFO : PROGRESS: at sentence #0, processed 0 words and 0 word types\n",
      "2018-07-19 20:29:32,574 : INFO : PROGRESS: at sentence #10000, processed 128427 words and 62790 word types\n",
      "2018-07-19 20:29:32,765 : INFO : PROGRESS: at sentence #20000, processed 257842 words and 105427 word types\n",
      "2018-07-19 20:29:32,941 : INFO : PROGRESS: at sentence #30000, processed 377963 words and 139813 word types\n",
      "2018-07-19 20:29:33,102 : INFO : PROGRESS: at sentence #40000, processed 487238 words and 167134 word types\n",
      "2018-07-19 20:29:33,341 : INFO : PROGRESS: at sentence #50000, processed 640144 words and 205287 word types\n",
      "2018-07-19 20:29:33,568 : INFO : PROGRESS: at sentence #60000, processed 793495 words and 240556 word types\n",
      "2018-07-19 20:29:33,771 : INFO : PROGRESS: at sentence #70000, processed 925964 words and 270064 word types\n",
      "2018-07-19 20:29:33,968 : INFO : PROGRESS: at sentence #80000, processed 1055555 words and 297110 word types\n",
      "2018-07-19 20:29:34,068 : INFO : collected 310226 word types from a corpus of 1120879 words (unigram + bigrams) and 85003 sentences\n",
      "2018-07-19 20:29:34,069 : INFO : using 310226 counts as vocab in Phrases<0 vocab, min_count=5, threshold=10.0, max_vocab_size=40000000>\n"
     ]
    }
   ],
   "source": [
    "phrases = Phrases(tokenized_sentences)"
   ]
  },
  {
   "cell_type": "code",
   "execution_count": 17,
   "metadata": {
    "scrolled": true
   },
   "outputs": [
    {
     "name": "stderr",
     "output_type": "stream",
     "text": [
      "2018-07-19 20:29:34,073 : INFO : source_vocab length 310226\n",
      "2018-07-19 20:29:36,967 : INFO : Phraser built with 2238 2238 phrasegrams\n"
     ]
    }
   ],
   "source": [
    "bigram = Phraser(phrases)"
   ]
  },
  {
   "cell_type": "code",
   "execution_count": 18,
   "metadata": {},
   "outputs": [],
   "source": [
    "sentences = list(bigram[tokenized_sentences])"
   ]
  },
  {
   "cell_type": "code",
   "execution_count": 19,
   "metadata": {},
   "outputs": [
    {
     "name": "stdout",
     "output_type": "stream",
     "text": [
      "This corpus has:\n",
      "\n",
      "                1,048,809 tokens with bigrams\n",
      "\n",
      "                1,120,879 tokens without bigrams\n",
      "\n",
      "                0.06429775203211052 of the tokens have been included in phrases\n"
     ]
    }
   ],
   "source": [
    "tokens_count = sum([len(sen) for sen in sentences])\n",
    "no_bigram_count = sum([len(s) for s in tokenized_sentences])\n",
    "print(\"\"\"This corpus has:\\n\n",
    "                {0:,} tokens with bigrams\\n\n",
    "                {1:,} tokens without bigrams\\n\n",
    "                {2:} of the tokens have been included in phrases\"\"\".format(\n",
    "    tokens_count,no_bigram_count, 1-tokens_count/no_bigram_count))"
   ]
  },
  {
   "cell_type": "code",
   "execution_count": 20,
   "metadata": {},
   "outputs": [],
   "source": [
    "word2int = OrderedDict()\n",
    "for sent in sentences:\n",
    "    for w in sent:\n",
    "        word2int.setdefault(w, len(word2int))\n",
    "int2word = dict(zip(word2int.values(), word2int.keys()))"
   ]
  },
  {
   "cell_type": "code",
   "execution_count": 21,
   "metadata": {},
   "outputs": [],
   "source": [
    "for i in range(1000):\n",
    "    assert i==word2int[int2word[i]]"
   ]
  },
  {
   "cell_type": "code",
   "execution_count": 22,
   "metadata": {},
   "outputs": [
    {
     "data": {
      "text/plain": [
       "24158"
      ]
     },
     "execution_count": 22,
     "metadata": {},
     "output_type": "execute_result"
    }
   ],
   "source": [
    "vocabulary_size = len(word2int)\n",
    "vocabulary_size"
   ]
  },
  {
   "cell_type": "markdown",
   "metadata": {},
   "source": [
    "### Batch generator"
   ]
  },
  {
   "cell_type": "code",
   "execution_count": 23,
   "metadata": {},
   "outputs": [],
   "source": [
    "def sentence_to_skipgram(sentence, window_size, start_index, required_size):\n",
    "    global word2int\n",
    "    skipgram = deque()\n",
    "    for i, target in enumerate(sentence[max(0, start_index-window_size):]):\n",
    "        start = max(0, i-window_size)\n",
    "        end = min(i+window_size+1, len(sentence))\n",
    "        context_words = deque([word2int[w] for w in sentence[start:end] if w!= target])\n",
    "\n",
    "        while len(context_words) > 0:\n",
    "            skipgram.append((word2int[target], context_words.popleft()))\n",
    "\n",
    "            if len(skipgram)>= required_size:\n",
    "                return np.array(skipgram, dtype=np.int32), -1 if i+start_index >= len(sentence) else i+start_index, len(skipgram)\n",
    "    return np.array(skipgram, dtype=np.int32), -1, len(skipgram)"
   ]
  },
  {
   "cell_type": "code",
   "execution_count": 24,
   "metadata": {},
   "outputs": [],
   "source": [
    "def sentence_generator():\n",
    "    i = -1\n",
    "    while 1:\n",
    "        if i >= len(sentences)-1:\n",
    "            i = 0\n",
    "        else:\n",
    "            i += 1\n",
    "        yield sentences[i]"
   ]
  },
  {
   "cell_type": "code",
   "execution_count": 25,
   "metadata": {},
   "outputs": [],
   "source": [
    "def generate_batch(batch_size=128, window_size=5, labels2d=True):\n",
    "    sg = sentence_generator()\n",
    "    start_index = -1\n",
    "    while 1:\n",
    "        batch = None\n",
    "        i = 0\n",
    "        if start_index == -1:  # all sentence has been processed\n",
    "            sentence = sg.__next__()  # get next sentence in the corpus\n",
    "            start_index = 0\n",
    "\n",
    "        while i < batch_size:\n",
    "            new, start_index, valid = sentence_to_skipgram(sentence, window_size, start_index,\n",
    "                                                    batch_size-i)\n",
    "            if not valid:\n",
    "                continue\n",
    "            if batch is None:\n",
    "                batch = new\n",
    "            else:\n",
    "                batch = np.concatenate((batch, new))\n",
    "            i = len(batch)\n",
    "\n",
    "        x = batch[:, 0]\n",
    "        y = batch[:, 1].reshape([len(x),1]) if labels2d else batch[:, 1]\n",
    "        yield x,y"
   ]
  },
  {
   "cell_type": "markdown",
   "metadata": {},
   "source": [
    "## Setting up the model\n",
    "### Setting models parameters"
   ]
  },
  {
   "cell_type": "markdown",
   "metadata": {},
   "source": [
    "<h1 align='center'>Skip-Gram\n",
    "    <img src=\"misc/skip_gram_.png\"></h1>"
   ]
  },
  {
   "cell_type": "code",
   "execution_count": 26,
   "metadata": {},
   "outputs": [],
   "source": [
    "batch_size = 128\n",
    "embedding_size = 128\n",
    "window_size = 5\n",
    "num_sampled = 64 # number of negative samples for sampled softmax\n",
    "learning_rate = 0.0001"
   ]
  },
  {
   "cell_type": "markdown",
   "metadata": {},
   "source": [
    "## Using NCE and CPU\n",
    "### NCE  isn't supported with gpu"
   ]
  },
  {
   "cell_type": "code",
   "execution_count": 27,
   "metadata": {
    "scrolled": false
   },
   "outputs": [
    {
     "name": "stdout",
     "output_type": "stream",
     "text": [
      "WARNING:tensorflow:From /usr/local/lib/python3.5/dist-packages/tensorflow/python/ops/nn_impl.py:1310: softmax_cross_entropy_with_logits (from tensorflow.python.ops.nn_ops) is deprecated and will be removed in a future version.\n",
      "Instructions for updating:\n",
      "\n",
      "Future major versions of TensorFlow will allow gradients to flow\n",
      "into the labels input on backprop by default.\n",
      "\n",
      "See tf.nn.softmax_cross_entropy_with_logits_v2.\n",
      "\n"
     ]
    },
    {
     "name": "stderr",
     "output_type": "stream",
     "text": [
      "2018-07-19 20:29:40,516 : WARNING : From /usr/local/lib/python3.5/dist-packages/tensorflow/python/ops/nn_impl.py:1310: softmax_cross_entropy_with_logits (from tensorflow.python.ops.nn_ops) is deprecated and will be removed in a future version.\n",
      "Instructions for updating:\n",
      "\n",
      "Future major versions of TensorFlow will allow gradients to flow\n",
      "into the labels input on backprop by default.\n",
      "\n",
      "See tf.nn.softmax_cross_entropy_with_logits_v2.\n",
      "\n"
     ]
    }
   ],
   "source": [
    "graph = tf.Graph()\n",
    "\n",
    "with graph.as_default(), tf.device(\"/cpu\"):\n",
    "    with tf.name_scope(\"inputs\"):\n",
    "        train_inputs = tf.placeholder(tf.int32, shape=[None], name=\"train_inputs\")\n",
    "        train_labels = tf.placeholder(tf.int32, shape=[None, 1], name=\"train_labels\")\n",
    "    \n",
    "    with tf.name_scope(\"weights\"):\n",
    "        embeddings = tf.Variable(\n",
    "            tf.random_uniform([vocabulary_size, embedding_size], -1.0, 1.0)\n",
    "        )\n",
    "        softmax_weights = tf.Variable(\n",
    "            tf.truncated_normal([vocabulary_size, embedding_size], stddev=1.0/math.sqrt(embedding_size))\n",
    "        )\n",
    "        softmax_biases = tf.Variable(\n",
    "            tf.zeros([vocabulary_size])\n",
    "        )       \n",
    "\n",
    "    with tf.name_scope(\"embeddings\"):\n",
    "        embed = tf.nn.embedding_lookup(embeddings, train_inputs, name=\"embed\")\n",
    "        \n",
    "    with tf.name_scope(\"loss\"):\n",
    "        loss = tf.reduce_mean(\n",
    "            tf.nn.sampled_softmax_loss(\n",
    "                weights=softmax_weights,\n",
    "                biases=softmax_biases,\n",
    "                inputs=embed,\n",
    "                labels=train_labels,\n",
    "                num_sampled=num_sampled,\n",
    "                num_classes=vocabulary_size)\n",
    "        )\n",
    "\n",
    "    with tf.name_scope(\"optimizer\"):\n",
    "        optimizer = tf.train.RMSPropOptimizer(learning_rate, decay=0.7).minimize(loss)\n",
    "\n",
    "    with tf.name_scope(\"normalization\"):\n",
    "        norm = tf.sqrt(tf.reduce_sum(tf.square(embeddings), 1, keepdims=True))\n",
    "        normalized_embeddings = tf.divide(embeddings, norm, name=\"nomalized_embeddings\")\n",
    "        \n",
    "    init = tf.global_variables_initializer()"
   ]
  },
  {
   "cell_type": "code",
   "execution_count": 28,
   "metadata": {},
   "outputs": [],
   "source": [
    "def run_session(graph, batch_generator, epochs=10000, device='/gpu'):\n",
    "    loss_values = dict()\n",
    "    start = time.time()\n",
    "    with tf.Session(graph=graph) as sess:\n",
    "        with tf.device(device):\n",
    "            init.run()\n",
    "            print(\"Variables initialized\")\n",
    "            average_loss = 0\n",
    "            for e in range(epochs+1):\n",
    "                batch_X, batch_y = batch_generator.__next__()\n",
    "                feed_dict = {train_inputs:batch_X,\n",
    "                             train_labels:batch_y}\n",
    "                _, loss_val = sess.run([optimizer, loss], feed_dict=feed_dict)\n",
    "                average_loss += loss_val\n",
    "                if e%10==0:\n",
    "                    loss_values[e] = loss_val\n",
    "                    if e%500 == 0:\n",
    "                        print(\"Epoch {0}\\nLoss {1}\".format(e, average_loss/500 if e>0 else average_loss))\n",
    "                        average_loss = 0\n",
    "                        print(\"~\"*40)\n",
    "        print(\"Took: {}\".format(time.time()-start))\n",
    "        return normalized_embeddings.eval(feed_dict=feed_dict), loss_values"
   ]
  },
  {
   "cell_type": "code",
   "execution_count": 29,
   "metadata": {
    "scrolled": false
   },
   "outputs": [
    {
     "name": "stdout",
     "output_type": "stream",
     "text": [
      "Variables initialized\n",
      "Epoch 0\n",
      "Loss 9.940282821655273\n",
      "~~~~~~~~~~~~~~~~~~~~~~~~~~~~~~~~~~~~~~~~\n",
      "Epoch 500\n",
      "Loss 7.886104809761047\n",
      "~~~~~~~~~~~~~~~~~~~~~~~~~~~~~~~~~~~~~~~~\n",
      "Epoch 1000\n",
      "Loss 6.379987707138062\n",
      "~~~~~~~~~~~~~~~~~~~~~~~~~~~~~~~~~~~~~~~~\n",
      "Epoch 1500\n",
      "Loss 4.510847625255585\n",
      "~~~~~~~~~~~~~~~~~~~~~~~~~~~~~~~~~~~~~~~~\n",
      "Epoch 2000\n",
      "Loss 2.6382539010047914\n",
      "~~~~~~~~~~~~~~~~~~~~~~~~~~~~~~~~~~~~~~~~\n",
      "Epoch 2500\n",
      "Loss 1.4175253043174743\n",
      "~~~~~~~~~~~~~~~~~~~~~~~~~~~~~~~~~~~~~~~~\n",
      "Epoch 3000\n",
      "Loss 0.9736193870902061\n",
      "~~~~~~~~~~~~~~~~~~~~~~~~~~~~~~~~~~~~~~~~\n",
      "Epoch 3500\n",
      "Loss 0.803876579746604\n",
      "~~~~~~~~~~~~~~~~~~~~~~~~~~~~~~~~~~~~~~~~\n",
      "Epoch 4000\n",
      "Loss 0.7609237452447415\n",
      "~~~~~~~~~~~~~~~~~~~~~~~~~~~~~~~~~~~~~~~~\n",
      "Epoch 4500\n",
      "Loss 0.7532615708746015\n",
      "~~~~~~~~~~~~~~~~~~~~~~~~~~~~~~~~~~~~~~~~\n",
      "Epoch 5000\n",
      "Loss 0.7062692513372749\n",
      "~~~~~~~~~~~~~~~~~~~~~~~~~~~~~~~~~~~~~~~~\n",
      "Epoch 5500\n",
      "Loss 0.7188062120638787\n",
      "~~~~~~~~~~~~~~~~~~~~~~~~~~~~~~~~~~~~~~~~\n",
      "Epoch 6000\n",
      "Loss 0.7598560583884828\n",
      "~~~~~~~~~~~~~~~~~~~~~~~~~~~~~~~~~~~~~~~~\n",
      "Epoch 6500\n",
      "Loss 0.7396256378002\n",
      "~~~~~~~~~~~~~~~~~~~~~~~~~~~~~~~~~~~~~~~~\n",
      "Epoch 7000\n",
      "Loss 0.7475896967797308\n",
      "~~~~~~~~~~~~~~~~~~~~~~~~~~~~~~~~~~~~~~~~\n",
      "Epoch 7500\n",
      "Loss 0.7580759589214576\n",
      "~~~~~~~~~~~~~~~~~~~~~~~~~~~~~~~~~~~~~~~~\n",
      "Epoch 8000\n",
      "Loss 0.7389683392070001\n",
      "~~~~~~~~~~~~~~~~~~~~~~~~~~~~~~~~~~~~~~~~\n",
      "Epoch 8500\n",
      "Loss 0.735101002661977\n",
      "~~~~~~~~~~~~~~~~~~~~~~~~~~~~~~~~~~~~~~~~\n",
      "Epoch 9000\n",
      "Loss 0.7280337789566839\n",
      "~~~~~~~~~~~~~~~~~~~~~~~~~~~~~~~~~~~~~~~~\n",
      "Epoch 9500\n",
      "Loss 0.7263135273333028\n",
      "~~~~~~~~~~~~~~~~~~~~~~~~~~~~~~~~~~~~~~~~\n",
      "Epoch 10000\n",
      "Loss 0.7495552152390373\n",
      "~~~~~~~~~~~~~~~~~~~~~~~~~~~~~~~~~~~~~~~~\n",
      "Took: 15.340280055999756\n"
     ]
    }
   ],
   "source": [
    "batch_generator = generate_batch(batch_size)\n",
    "embeddings, loss_values_sampled_softmax = run_session(graph, batch_generator, device='/cpu')"
   ]
  },
  {
   "cell_type": "code",
   "execution_count": 30,
   "metadata": {},
   "outputs": [],
   "source": [
    "points = pd.DataFrame(\n",
    "    list(zip(sorted(loss_values_sampled_softmax),\n",
    "             [loss_values_sampled_softmax[i] for i in sorted(loss_values_sampled_softmax)])),\n",
    "    columns=[\"epoch\",'loss'])"
   ]
  },
  {
   "cell_type": "code",
   "execution_count": 31,
   "metadata": {},
   "outputs": [
    {
     "data": {
      "text/plain": [
       "<matplotlib.axes._subplots.AxesSubplot at 0x7fcc302d38d0>"
      ]
     },
     "execution_count": 31,
     "metadata": {},
     "output_type": "execute_result"
    },
    {
     "data": {
      "image/png": "[encoded data removed]",
      "text/plain": [
       "<matplotlib.figure.Figure at 0x7fcce7752780>"
      ]
     },
     "metadata": {},
     "output_type": "display_data"
    }
   ],
   "source": [
    "points.plot.line(x='epoch', y='loss',figsize=(20,8))"
   ]
  }
 ],
 "metadata": {
  "kernelspec": {
   "display_name": "Python 3",
   "language": "python",
   "name": "python3"
  },
  "language_info": {
   "codemirror_mode": {
    "name": "ipython",
    "version": 3
   },
   "file_extension": ".py",
   "mimetype": "text/x-python",
   "name": "python",
   "nbconvert_exporter": "python",
   "pygments_lexer": "ipython3",
   "version": "3.5.2"
  }
 },
 "nbformat": 4,
 "nbformat_minor": 2
}
